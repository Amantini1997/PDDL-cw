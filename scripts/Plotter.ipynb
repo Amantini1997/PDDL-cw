{
 "cells": [
  {
   "cell_type": "code",
   "execution_count": 2,
   "metadata": {},
   "outputs": [],
   "source": [
    "import matplotlib.pyplot as plt\n",
    "import pandas as pd"
   ]
  },
  {
   "cell_type": "code",
   "execution_count": 60,
   "metadata": {},
   "outputs": [],
   "source": [
    "INSTANCE = \"isntance\"\n",
    "DOMAIN = \"domain\"\n",
    "HEURISTIC = \"heuristic\"\n",
    "PLAN_LENGTH = \"plan_length\"\n",
    "PLAN_COST = \"plan_cost\"\n",
    "STATES_EXPANDED = \"states_expanded\"\n",
    "STATES_EVALUATED = \"states_evaluated\"\n",
    "SEARCH_TIME = \"search_time\"\n",
    "TOTAL_TIME = \"total_time\"\n",
    "DEAD_ENDS = \"dead_ends\"\n",
    "\n",
    "ADD = \"add\"\n",
    "CG = \"cg\"\n",
    "\n",
    "df = pd.read_csv(\"data.csv\")\n",
    "\n",
    "domains = df[DOMAIN].unique()"
   ]
  },
  {
   "cell_type": "code",
   "execution_count": 4,
   "metadata": {},
   "outputs": [],
   "source": [
    "domains_df = {domain: df.loc[df[DOMAIN] == domain] for domain in domains} \n",
    "domains_df_heuristics = { domain: {} for domain in domains }\n",
    "\n",
    "for domain in domains:\n",
    "    domain_rows = df.loc[df[DOMAIN] == domain]\n",
    "    current_domain = domains_df_heuristics[domain]\n",
    "    for heuristic in HEURISTICS_DATA_POINTS.keys():\n",
    "        heuristic_data_boolean = domain_rows[HEURISTIC] == heuristic\n",
    "        current_domain[heuristic] = domain_rows[heuristic_data_boolean]"
   ]
  },
  {
   "cell_type": "code",
   "execution_count": 65,
   "metadata": {},
   "outputs": [],
   "source": [
    "HEURISTICS_DATA_POINTS = {\n",
    "    \"add\": \"r.\",\n",
    "    \"cg\" : \"b+\"\n",
    "}\n",
    "\n",
    "def plot(x_axis=PLAN_LENGTH, y_axis=TOTAL_TIME, domain=\"freecell\", file_name=None, visualise_plot=False, save_plot=False):\n",
    "    current_domain = domains_df_heuristics[domain]\n",
    "\n",
    "    plt.figure()\n",
    "    for heuristic, dp in HEURISTICS_DATA_POINTS.iteritems():\n",
    "        X1 = current_domain[heuristic][x_axis]\n",
    "        X2 = current_domain[heuristic][y_axis]   \n",
    "        plt.plot(X1, X2, dp, label=heuristic)\n",
    "        plt.yscale(\"symlog\")\n",
    "        plt.xlabel(x_axis)\n",
    "        plt.ylabel(y_axis)\n",
    "        plt.grid(True)\n",
    "\n",
    "    # Diagonal Line\n",
    "    plt.xlim(xmin=0)\n",
    "    y_lim = plt.ylim()\n",
    "    x_lim = plt.xlim()\n",
    "    plt.plot(x_lim, y_lim, 'k-', linewidth=0.5)\n",
    "    plt.ylim(y_lim)\n",
    "    plt.xlim(x_lim)\n",
    "    plt.title(domain)\n",
    "\n",
    "    plt.legend(loc=\"upper left\")\n",
    "    if visualise_plot:\n",
    "        plt.plot()\n",
    "\n",
    "    # Use this line to save the plot\n",
    "    if save_plot: plt.savefig(\"plots/\" + file_name + \".png\")\n",
    "                              \n",
    "    plt.close()"
   ]
  },
  {
   "cell_type": "code",
   "execution_count": 66,
   "metadata": {},
   "outputs": [],
   "source": [
    "import itertools\n",
    "\n",
    "fields = [HEURISTIC, PLAN_LENGTH, PLAN_COST, STATES_EXPANDED, STATES_EVALUATED, SEARCH_TIME, TOTAL_TIME, DEAD_ENDS]\n",
    "fields_matrix_with_identities = itertools.combinations_with_replacement(fields, 2)\n",
    "fields_matrix = [combination for combination in fields_matrix_with_identities if not combination[0] == combination[1]]\n",
    "\n",
    "for domain in domains:\n",
    "    for index, field_combination in enumerate(fields_matrix):\n",
    "        plot(field_combination[0], field_combination[1], domain, file_name=domain+\"_\"+str(index), save_plot=True)"
   ]
  }
 ],
 "metadata": {
  "kernelspec": {
   "display_name": "Python 2",
   "language": "python",
   "name": "python2"
  },
  "language_info": {
   "codemirror_mode": {
    "name": "ipython",
    "version": 2
   },
   "file_extension": ".py",
   "mimetype": "text/x-python",
   "name": "python",
   "nbconvert_exporter": "python",
   "pygments_lexer": "ipython2",
   "version": "2.7.18"
  }
 },
 "nbformat": 4,
 "nbformat_minor": 2
}
