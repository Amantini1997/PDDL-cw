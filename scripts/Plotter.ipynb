{
 "cells": [
  {
   "cell_type": "code",
   "execution_count": 74,
   "metadata": {},
   "outputs": [],
   "source": [
    "import matplotlib.pyplot as plt\n",
    "import pandas as pd"
   ]
  },
  {
   "cell_type": "code",
   "execution_count": 75,
   "metadata": {},
   "outputs": [],
   "source": [
    "INSTANCE = \"isntance\"\n",
    "DOMAIN = \"domain\"\n",
    "HEURISTIC = \"heuristic\"\n",
    "PLAN_LENGTH = \"plan_length\"\n",
    "PLAN_COST = \"plan_cost\"\n",
    "STATES_EXPANDED = \"states_expanded\"\n",
    "STATES_EVALUATED = \"states_evaluated\"\n",
    "SEARCH_TIME = \"search_time\"\n",
    "TOTAL_TIME = \"total_time\"\n",
    "\n",
    "ADD = \"add\"\n",
    "CG = \"cg\"\n",
    "\n",
    "HEURISTICS_DATA_POINTS = {\n",
    "    \"add\": \"r.\",\n",
    "    \"cg\" : \"b+\"\n",
    "}\n",
    "\n",
    "df = pd.read_csv(\"data.csv\")\n",
    "\n",
    "domains = df[DOMAIN].unique()"
   ]
  },
  {
   "cell_type": "code",
   "execution_count": 76,
   "metadata": {},
   "outputs": [],
   "source": [
    "domains_df = {domain: df.loc[df[DOMAIN] == domain] for domain in domains} \n",
    "domains_df_heuristics = { domain: {} for domain in domains }\n",
    "\n",
    "for domain in domains:\n",
    "    domain_rows = df.loc[df[DOMAIN] == domain]\n",
    "    current_domain = domains_df_heuristics[domain]\n",
    "    for heuristic in HEURISTICS_DATA_POINTS.keys():\n",
    "        heuristic_data_boolean = domain_rows[HEURISTIC] == heuristic\n",
    "        current_domain[heuristic] = domain_rows[heuristic_data_boolean]"
   ]
  },
  {
   "cell_type": "code",
   "execution_count": 77,
   "metadata": {},
   "outputs": [
    {
     "data": {
      "text/plain": [
       "[]"
      ]
     },
     "execution_count": 77,
     "metadata": {},
     "output_type": "execute_result"
    },
    {
     "data": {
      "image/png": "[encoded data removed]",
      "text/plain": [
       "<Figure size 432x288 with 1 Axes>"
      ]
     },
     "metadata": {
      "needs_background": "light"
     },
     "output_type": "display_data"
    }
   ],
   "source": [
    "# Change these to see different values on the axis\n",
    "X_AXIS = PLAN_LENGTH\n",
    "Y_AXIS = TOTAL_TIME\n",
    "\n",
    "# Change the domain here\n",
    "DOMAIN = \"freecell\"\n",
    "\n",
    "current_domain = domains_df_heuristics[DOMAIN]\n",
    "\n",
    "plt.figure()\n",
    "for heuristic, dp in HEURISTICS_DATA_POINTS.iteritems():\n",
    "    X1 = current_domain[heuristic][X_AXIS]\n",
    "    X2 = current_domain[heuristic][Y_AXIS]   \n",
    "    plt.plot(X1, X2, dp, label=heuristic)\n",
    "    plt.yscale(\"log\")\n",
    "    plt.xlabel(X_AXIS)\n",
    "    plt.ylabel(Y_AXIS)\n",
    "    plt.grid(True)\n",
    "    \n",
    "# Diagonal Line\n",
    "y_lim = plt.ylim()\n",
    "x_lim = plt.xlim()\n",
    "plt.plot(x_lim, y_lim, 'k-')\n",
    "plt.ylim(y_lim)\n",
    "plt.xlim(x_lim)\n",
    "\n",
    "plt.legend(loc=\"upper left\")\n",
    "plt.plot()\n",
    "\n",
    "# Use this line to save the plot\n",
    "if False: plt.savefig(DOMAIN + '.png')"
   ]
  },
  {
   "cell_type": "code",
   "execution_count": null,
   "metadata": {},
   "outputs": [],
   "source": []
  }
 ],
 "metadata": {
  "kernelspec": {
   "display_name": "Python 2",
   "language": "python",
   "name": "python2"
  },
  "language_info": {
   "codemirror_mode": {
    "name": "ipython",
    "version": 2
   },
   "file_extension": ".py",
   "mimetype": "text/x-python",
   "name": "python",
   "nbconvert_exporter": "python",
   "pygments_lexer": "ipython2",
   "version": "2.7.18"
  }
 },
 "nbformat": 4,
 "nbformat_minor": 2
}
